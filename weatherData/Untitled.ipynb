{
 "cells": [
  {
   "cell_type": "code",
   "execution_count": 15,
   "metadata": {},
   "outputs": [],
   "source": [
    "from bokeh.plotting import output_file, show, figure\n",
    "import pandas\n",
    "\n",
    "#Load data\n",
    "data = pandas.read_excel(\"weather.xlsx\")\n",
    "x = data[\"Temperature\"] / 10\n",
    "y = data[\"Pressure\"] / 10\n",
    "\n",
    "#Create graph\n",
    "p = figure(tools = \"pan\")\n",
    "p.title.text = \"Temperature and Air Pressure\"\n",
    "p.title.text_font_size = \"16px\"\n",
    "p.title.text_color = \"Gray\"\n",
    "p.title.text_font = \"times\"\n",
    "p.title.text_font_style = \"bold\"\n",
    "p.yaxis.axis_label = \"Pressure (hPa)\"\n",
    "p.yaxis.minor_tick_line_color = None\n",
    "p.xaxis.axis_label = \"Temperature (°C)\"\n",
    "p.xaxis.minor_tick_line_color = None\n",
    "p.circle(x,y, size=1)\n",
    "\n",
    "#Create output file\n",
    "output_file(\"tempAndPressure.html\")\n",
    "\n",
    "#Show graph\n",
    "show(p)"
   ]
  },
  {
   "cell_type": "code",
   "execution_count": null,
   "metadata": {},
   "outputs": [],
   "source": []
  }
 ],
 "metadata": {
  "kernelspec": {
   "display_name": "Python 3",
   "language": "python",
   "name": "python3"
  },
  "language_info": {
   "codemirror_mode": {
    "name": "ipython",
    "version": 3
   },
   "file_extension": ".py",
   "mimetype": "text/x-python",
   "name": "python",
   "nbconvert_exporter": "python",
   "pygments_lexer": "ipython3",
   "version": "3.7.1"
  }
 },
 "nbformat": 4,
 "nbformat_minor": 2
}
