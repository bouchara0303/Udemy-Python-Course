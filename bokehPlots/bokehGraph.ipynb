{
 "cells": [
  {
   "cell_type": "code",
   "execution_count": 10,
   "metadata": {},
   "outputs": [],
   "source": [
    "#Making basic Bokeh graph\n",
    "from bokeh.plotting import figure\n",
    "from bokeh.io import output_file, show\n",
    "\n",
    "#Prepare data\n",
    "x = [1,2,3,4,5]\n",
    "y = [6,7,8,9,10]\n",
    "\n",
    "#Create output file\n",
    "output_file(\"line.html\")\n",
    "\n",
    "#Create figure object\n",
    "fig = figure()\n",
    "\n",
    "#Add line connecting data points\n",
    "fig.line(x,y)\n",
    "fig.circle(x,y)\n",
    "\n",
    "show(fig)"
   ]
  },
  {
   "cell_type": "code",
   "execution_count": 11,
   "metadata": {},
   "outputs": [],
   "source": [
    "#Making basic Bokeh graph\n",
    "from bokeh.plotting import figure\n",
    "from bokeh.io import output_file, show\n",
    "import pandas\n",
    "\n",
    "#Prepare data\n",
    "df = pandas.read_csv(\"data.csv\")\n",
    "x = df[\"x\"]\n",
    "y = df[\"y\"]\n",
    "\n",
    "#Create output file\n",
    "output_file(\"line.html\")\n",
    "\n",
    "#Create figure object\n",
    "fig = figure()\n",
    "\n",
    "#Add line connecting data points\n",
    "fig.line(x,y)\n",
    "fig.circle(x,y)\n",
    "\n",
    "show(fig)"
   ]
  }
 ],
 "metadata": {
  "kernelspec": {
   "display_name": "Python 3",
   "language": "python",
   "name": "python3"
  },
  "language_info": {
   "codemirror_mode": {
    "name": "ipython",
    "version": 3
   },
   "file_extension": ".py",
   "mimetype": "text/x-python",
   "name": "python",
   "nbconvert_exporter": "python",
   "pygments_lexer": "ipython3",
   "version": "3.7.1"
  }
 },
 "nbformat": 4,
 "nbformat_minor": 2
}
