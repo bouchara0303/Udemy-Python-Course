{
 "cells": [
  {
   "cell_type": "code",
   "execution_count": 7,
   "metadata": {},
   "outputs": [],
   "source": [
    "from bokeh.plotting import figure\n",
    "from bokeh.io import show, output_file\n",
    "import pandas\n",
    "\n",
    "#Format data\n",
    "data = pandas.read_csv(\"education.csv\")\n",
    "x = data[\"Year\"]\n",
    "y = data[\"Engineering\"]\n",
    "\n",
    "#Create figure object\n",
    "fig = figure(title = \"Women Engineering Undergraduates in U.S.A.\")\n",
    "fig.xaxis[0].axis_label = \"Year\"\n",
    "fig.yaxis[0].axis_label = \"% of Women Graduates\"\n",
    "\n",
    "#Add circles at each datapoint connected by lines\n",
    "fig.line(x,y)\n",
    "fig.circle(x,y)\n",
    "\n",
    "#Name output file\n",
    "output_file(\"engineeringData.html\")\n",
    "\n",
    "#Display graph\n",
    "show(fig)"
   ]
  },
  {
   "cell_type": "code",
   "execution_count": null,
   "metadata": {},
   "outputs": [],
   "source": []
  }
 ],
 "metadata": {
  "kernelspec": {
   "display_name": "Python 3",
   "language": "python",
   "name": "python3"
  },
  "language_info": {
   "codemirror_mode": {
    "name": "ipython",
    "version": 3
   },
   "file_extension": ".py",
   "mimetype": "text/x-python",
   "name": "python",
   "nbconvert_exporter": "python",
   "pygments_lexer": "ipython3",
   "version": "3.7.1"
  }
 },
 "nbformat": 4,
 "nbformat_minor": 2
}
